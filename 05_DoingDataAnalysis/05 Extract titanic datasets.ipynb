{
 "cells": [
  {
   "cell_type": "code",
   "execution_count": 5,
   "metadata": {
    "collapsed": true
   },
   "outputs": [],
   "source": [
    "from keys import kaggle_username, kaggle_password\n",
    "import requests, os\n",
    "from requests import session"
   ]
  },
  {
   "cell_type": "code",
   "execution_count": 3,
   "metadata": {
    "collapsed": true
   },
   "outputs": [],
   "source": [
    "# payload for post\n",
    "payload = {'action': 'login',\n",
    "          'username': kaggle_username,\n",
    "          'password': kaggle_password}\n",
    "\n",
    "#url for the training set\n",
    "url = 'https://www.kaggle.com/c/titanic/download/train.csv'\n",
    "\n",
    "#setup session\n",
    "with session() as c:\n",
    "    # post request\n",
    "    c.post('https://www.kaggle.com/account/login', data=payload)\n",
    "    #get request\n",
    "    response = c.get(url)"
   ]
  },
  {
   "cell_type": "markdown",
   "metadata": {},
   "source": [
    "To encourage code usability, we'll create a function that can be reused for any Kaggle dataset. It will also stream the data to a file instead of downloading it all straight into memory, in case the dataset is large."
   ]
  },
  {
   "cell_type": "code",
   "execution_count": 11,
   "metadata": {},
   "outputs": [],
   "source": [
    "#here we will create a function to write the data to a csv file\n",
    "\n",
    "# payload for post\n",
    "payload = {'action': 'login',\n",
    "          'username': kaggle_username,\n",
    "          'password': kaggle_password}\n",
    "\n",
    "def extract_data(url, file_path):\n",
    "    '''\n",
    "    extract data from kaggle\n",
    "    '''\n",
    "    #setup session\n",
    "    with session() as c:\n",
    "        # post request\n",
    "        c.post('https://www.kaggle.com/account/login', data=payload)\n",
    "        with open(file_path, 'wb') as handle:\n",
    "            #get request\n",
    "            response = c.get(url, stream=True)\n",
    "            for block in response.iter_content(1024):\n",
    "                handle.write(block)"
   ]
  },
  {
   "cell_type": "markdown",
   "metadata": {},
   "source": [
    "The function can then be used for each dataset we're interested in. It can also be reused in other notebooks later."
   ]
  },
  {
   "cell_type": "code",
   "execution_count": 12,
   "metadata": {},
   "outputs": [],
   "source": [
    "# urls\n",
    "train_url = 'https://www.kaggle.com/c/titanic/download/train.csv'\n",
    "test_url = 'https://www.kaggle.com/c/titanic/download/test.csv'\n",
    "\n",
    "# file paths\n",
    "# This goes to the parent directory and finds finds a raw path, but I don't have things set up this way\n",
    "# raw_data_path = os.path.join(os.path.pardir, 'data', 'raw')\n",
    "\n",
    "# So this finds the current directory and goes to the subfolders I've created\n",
    "raw_data_path = os.path.join(os.getcwd(), 'data', 'raw')\n",
    "train_data_path = os.path.join(raw_data_path, 'train.csv')\n",
    "test_data_path = os.path.join(raw_data_path, 'test.csv')\n",
    "\n",
    "# extract data\n",
    "extract_data(train_url, train_data_path)\n",
    "extract_data(test_url, test_data_path)"
   ]
  },
  {
   "cell_type": "markdown",
   "metadata": {},
   "source": [
    "And now, you have the files downloaded into the project directory and saves as CSV files. See the notebook from the course for a method to turn this into a script that can be automated."
   ]
  }
 ],
 "metadata": {
  "kernelspec": {
   "display_name": "Python 3",
   "language": "python",
   "name": "python3"
  },
  "language_info": {
   "codemirror_mode": {
    "name": "ipython",
    "version": 3
   },
   "file_extension": ".py",
   "mimetype": "text/x-python",
   "name": "python",
   "nbconvert_exporter": "python",
   "pygments_lexer": "ipython3",
   "version": "3.6.2"
  }
 },
 "nbformat": 4,
 "nbformat_minor": 2
}
