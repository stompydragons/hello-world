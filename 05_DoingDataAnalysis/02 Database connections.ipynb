{
 "cells": [
  {
   "cell_type": "markdown",
   "metadata": {},
   "source": [
    "# Open or create an sqlite database\n",
    "\n",
    "If you attempt to connect to a local database that doesn't exist, it will be created automatically."
   ]
  },
  {
   "cell_type": "code",
   "execution_count": 2,
   "metadata": {
    "collapsed": true
   },
   "outputs": [],
   "source": [
    "import sqlite3\n",
    "\n",
    "# open connection\n",
    "connection = sqlite3.connect('classroomDB.db')\n",
    "# open cursor\n",
    "cursor = connection.cursor()\n",
    "# query for creating table\n",
    "create_table = \"\"\"\n",
    "            CREATE TABLE classroom (\n",
    "                student_id INTEGER PRIMARY KEY,\n",
    "                name VARCHAR(20),\n",
    "                gender CHAR(1),\n",
    "                physics_marks INTEGER,\n",
    "                chemistry_marks INTEGER,\n",
    "                mathematics_marks INTEGER\n",
    "                );\"\"\"\n",
    "# execute query\n",
    "cursor.execute(create_table)\n",
    "# commit changes\n",
    "connection.commit()\n",
    "# close connection\n",
    "connection.close()"
   ]
  },
  {
   "cell_type": "markdown",
   "metadata": {},
   "source": [
    "# Populate the table in an sqlite database\n",
    "\n",
    "After you've created a DB and created a table, you need to populate it. This method uses a list of tuples to hold the data to be inserted, which can then be iterated over to do the inserts. Don't forget to put \"\" around string values in your insert statement, otherwise you'll get an error message about \"there is no column named Raj\", which is confusing."
   ]
  },
  {
   "cell_type": "code",
   "execution_count": 4,
   "metadata": {},
   "outputs": [],
   "source": [
    "# create sample data\n",
    "classroom_data = [(1, \"Raj\", \"M\", 70, 84, 92),\n",
    "                 (2, \"Poonam\", \"F\", 87, 69, 93),\n",
    "                 (3, \"Nik\", \"M\", 65, 83, 90),\n",
    "                 (4, \"Rahul\", \"F\", 83, 76, 89)]\n",
    "# open connection\n",
    "connection = sqlite3.connect('classroomDB.db')\n",
    "# open cursor\n",
    "cursor = connection.cursor()\n",
    "#insert each student record\n",
    "for student in classroom_data:\n",
    "    insert_statement = \"\"\"INSERT INTO classroom\n",
    "                    (student_id, name, gender, physics_marks, chemistry_marks, mathematics_marks)\n",
    "                    VALUES\n",
    "                    ({0}, \"{1}\", \"{2}\", {3}, {4}, {5});\"\"\".format(student[0], student[1], student[2], student[3],\n",
    "                                                             student[4], student[5])\n",
    "    # execute insert query\n",
    "    cursor.execute(insert_statement)\n",
    "\n",
    "# commit changes\n",
    "connection.commit()\n",
    "# close connection\n",
    "connection.close()"
   ]
  },
  {
   "cell_type": "markdown",
   "metadata": {},
   "source": [
    "# Extract data from an sqlite database\n",
    "\n",
    "There is no point having a database unless you can extract data from it. The pattern is similar to that used before."
   ]
  },
  {
   "cell_type": "code",
   "execution_count": 6,
   "metadata": {},
   "outputs": [
    {
     "name": "stdout",
     "output_type": "stream",
     "text": [
      "(1, 'Raj', 'M', 70, 84, 92)\n",
      "(2, 'Poonam', 'F', 87, 69, 93)\n",
      "(3, 'Nik', 'M', 65, 83, 90)\n",
      "(4, 'Rahul', 'F', 83, 76, 89)\n"
     ]
    }
   ],
   "source": [
    "# open connection\n",
    "connection = sqlite3.connect('classroomDB.db')\n",
    "# open cursor\n",
    "cursor = connection.cursor()\n",
    "# query\n",
    "query = \"\"\"SELECT * FROM classroom;\"\"\"\n",
    "# execute the query\n",
    "cursor.execute(query)\n",
    "# fetch the results\n",
    "result = cursor.fetchall()\n",
    "# print the results\n",
    "for row in result:\n",
    "    print(row)\n",
    "# close connection\n",
    "connection.close()"
   ]
  },
  {
   "cell_type": "markdown",
   "metadata": {},
   "source": [
    "# Other databases\n",
    "\n",
    "It's not just sqlite that Python can work with.\n",
    "\n",
    "## MySQL\n",
    "\n",
    "To work with MySQL, you need to install and import the pymysql package.\n",
    "\n",
    "The connection string is a little more complex, but you can use a dictionary to hold the necessary details:\n",
    "\n",
    "cnx = {'host': 'database host location',\n",
    "    'username': 'aUserName',\n",
    "    'password': 'aPassword',\n",
    "    'db': 'aDatabase'}\n",
    "    \n",
    "connection = pymysql.connection(cnx['host]', cnx['username'], cnx['password'], cnx['db'])\n",
    "\n",
    "After that, it's pretty much the same concepts as above for creating tables, inserting data, and extracting data."
   ]
  },
  {
   "cell_type": "markdown",
   "metadata": {},
   "source": [
    "## SQL Server\n",
    "\n",
    "The pymssql package is used to connect to an MS SQL Server database. The connection method is very similar to MySQL:\n",
    "\n",
    "cnx = {'host': 'database host location',\n",
    "    'username': 'aUserName',\n",
    "    'password': 'aPassword',\n",
    "    'db': 'aDatabase'}\n",
    "    \n",
    "connection = pymssql.connection(cnx['host]', cnx['username'], cnx['password'], cnx['db'])\n",
    "\n",
    "And then the rest (create, insert, extract) is the same as before."
   ]
  }
 ],
 "metadata": {
  "kernelspec": {
   "display_name": "Python 3",
   "language": "python",
   "name": "python3"
  },
  "language_info": {
   "codemirror_mode": {
    "name": "ipython",
    "version": 3
   },
   "file_extension": ".py",
   "mimetype": "text/x-python",
   "name": "python",
   "nbconvert_exporter": "python",
   "pygments_lexer": "ipython3",
   "version": "3.6.2"
  }
 },
 "nbformat": 4,
 "nbformat_minor": 2
}
