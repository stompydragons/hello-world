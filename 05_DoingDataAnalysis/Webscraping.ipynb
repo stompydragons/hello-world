{
 "cells": [
  {
   "cell_type": "markdown",
   "metadata": {},
   "source": [
    "# Webscraping\n",
    "\n",
    "If data isn't available in databases or APIs, it might be available sitting on a website. Make sure you're not getting into any legal trouble before scraping from sites - many of them don't like people scraping them. You can use requests and BeautifulSoup to parse the DOM."
   ]
  },
  {
   "cell_type": "code",
   "execution_count": 1,
   "metadata": {
    "collapsed": true
   },
   "outputs": [],
   "source": [
    "import requests\n",
    "from bs4 import BeautifulSoup"
   ]
  },
  {
   "cell_type": "code",
   "execution_count": 7,
   "metadata": {
    "collapsed": true
   },
   "outputs": [],
   "source": [
    "url = 'http://www.selenayhaven.com/index.html'\n",
    "result = requests.get(url)"
   ]
  },
  {
   "cell_type": "code",
   "execution_count": 8,
   "metadata": {},
   "outputs": [
    {
     "data": {
      "text/plain": [
       "200"
      ]
     },
     "execution_count": 8,
     "metadata": {},
     "output_type": "execute_result"
    }
   ],
   "source": [
    "result.status_code"
   ]
  },
  {
   "cell_type": "code",
   "execution_count": 22,
   "metadata": {},
   "outputs": [],
   "source": [
    "# Import the web page into BeautifulSoup\n",
    "ps = BeautifulSoup(result.text, \"html5lib\")\n",
    "result.close()\n",
    "#the second param may need to be changed to 'lxml' for other websites"
   ]
  },
  {
   "cell_type": "code",
   "execution_count": 14,
   "metadata": {},
   "outputs": [
    {
     "name": "stdout",
     "output_type": "stream",
     "text": [
      "<!DOCTYPE html PUBLIC \"-//W3C//DTD XHTML 1.0 Strict//EN\" \"http://www.w3.org/TR/xhtml1/DTD/xhtml1-strict.dtd\">\n",
      "<html lang=\"en\" xml:lang=\"en\" xmlns=\"http://www.w3.org/1999/xhtml\"><head>\n",
      "<meta content=\"text/html; charset=utf-8\" http-equiv=\"Content-Type\"/>\n",
      "<title>The Haven</title>\n",
      "<meta content=\"Selenay\" name=\"author\"/>\n",
      "<meta content=\"The home for Selenay's Stargate, Atlantis and Buffy fanfiction along with regularly updated multi-fandom fanfic reviews.\" name=\"description\"/>\n",
      "<meta content=\"BtVS, btvs, buffy the vampire slayer, buffy, slayer, b/g, b/w, buffy/giles, buffy/willow, fanfiction, haven, selenay, fanart, reviews, buffy/faith, b/f, fanfic reviews, recs, sg-1, stargate, jack, daniel, jack/daniel, slash, j/d, stargate atlantis, SG:A, teyla/weir, weir/teyla, femslash, f/f, sheppard/mckay, sheppard/rodney, m/m\" name=\"keywords\"/>\n",
      "<link href=\"layout.css\" rel=\"stylesheet\" type=\"text/css\"/>\n",
      "</head>\n",
      "<body>\n",
      "\n",
      "<div><img alt=\"Header graphici: The Haven\" class=\"head\" height=\"100\" src=\"images/thehaven02.gif\" width=\"600\"/>\n",
      "</div>\n",
      "<div id=\"sideimage\">\n",
      "<img alt=\"Index artwork\" height=\"450\" src=\"images/mainpic01.jpg\" width=\"300\"/>\n",
      "</div>\n",
      "<div id=\"linkindex\">\n",
      "<h2 class=\"topindex\"><a accesskey=\"w\" href=\"whatnew.htm\" tabindex=\"2\" title=\"What's New. Access key: W\">What's New</a></h2>\n",
      "<p>Latest additions to The Haven. Last updated: 24 Oct 2010</p>\n",
      "<h2><a accesskey=\"v\" href=\"fic_index.php\" tabindex=\"3\" title=\"Haven Fiction: Multi-fandom fanfiction. Access key: V\">Haven Fiction</a></h2>\n",
      "<p>Buffy, Doctor Who, Stargate and Atlantis fanfiction by Selenay.</p>\n",
      "<h2><a accesskey=\"r\" href=\"reviews/\" tabindex=\"4\" title=\"Fanfic Reviews. Access key: R\">Fanfiction reviews</a></h2>\n",
      "<p>Fanfiction reviews and recommendations from Selenay and friends</p>\n",
      "<h2><a accesskey=\"a\" href=\"random/index.htm\" tabindex=\"6\" title=\"Wallpapers, photos and icons. Access key: A\">Art Corner</a></h2>\n",
      "<p>Wallpapers, icons and convention photos</p>\n",
      "<h2><a accesskey=\"l\" href=\"links01.htm\" tabindex=\"7\" title=\"Links to other sites. Access key: L\">Links</a></h2>\n",
      "<p>Where do you want to go next? Includes the famous Fandom Newsletter Index.</p>\n",
      "<h2><a accesskey=\"d\" href=\"http://selenay.dreamwidth.org/\" tabindex=\"8\" title=\"Selenay's Dreamwidth. Access key: D\">Dreamwidth</a></h2>\n",
      "<p>Selenay's Dreamwidth, where she rambles about fanfiction, fandom and anything else that seems important</p>\n",
      "<h2><a accesskey=\"c\" href=\"feedback.htm\" tabindex=\"9\" title=\"Contact me. Access key: C\">Contact</a></h2>\n",
      "<p>Feedback, site problems, questions - it all goes to Selenay through this form.</p>\n",
      "<div id=\"disclaimer\">\n",
      "Disclaimer: Buffy the Vampire Slayer belongs to Fox, WB, Joss Whedon, Mutant Enemy et al.\n",
      "This is not an official site and there is no profit being made from it. Visit <a href=\"http://www.buffyupn.com\">the Official Site</a>.\n",
      "Stargate SG-1 and its characters are the property of Showtime/ Viacom, MGM/UA, Double Secret Productions, and Gekko Productions. Doctor Who and its\n",
      "spin-offs are the property of the mighty BBC.<br/>\n",
      "This website and all original content on it is the property of <a href=\"feedback.htm\"><b>Selenay</b></a>. Please do not store or reproduce anything on\n",
      "it for anything other than personal use without permission from the author.\n",
      "</div>\n",
      "</div>\n",
      "<script src=\"http://www.google-analytics.com/urchin.js\" type=\"text/javascript\">\n",
      "</script>\n",
      "<script type=\"text/javascript\">\n",
      "_uacct = \"UA-382148-2\";\n",
      "urchinTracker();\n",
      "</script>\n",
      "\n",
      "\n",
      "</body></html>\n"
     ]
    }
   ],
   "source": [
    "print(ps)"
   ]
  },
  {
   "cell_type": "code",
   "execution_count": 15,
   "metadata": {
    "collapsed": true
   },
   "outputs": [],
   "source": [
    "# find returns the first result from a tag search, so if you use body, it will parse out the body tag\n",
    "body = ps.find(name=\"body\")"
   ]
  },
  {
   "cell_type": "code",
   "execution_count": 17,
   "metadata": {},
   "outputs": [
    {
     "name": "stdout",
     "output_type": "stream",
     "text": [
      "<body>\n",
      "\n",
      "<div><img alt=\"Header graphici: The Haven\" class=\"head\" height=\"100\" src=\"images/thehaven02.gif\" width=\"600\"/>\n",
      "</div>\n",
      "<div id=\"sideimage\">\n",
      "<img alt=\"Index artwork\" height=\"450\" src=\"images/mainpic01.jpg\" width=\"300\"/>\n",
      "</div>\n",
      "<div id=\"linkindex\">\n",
      "<h2 class=\"topindex\"><a accesskey=\"w\" href=\"whatnew.htm\" tabindex=\"2\" title=\"What's New. Access key: W\">What's New</a></h2>\n",
      "<p>Latest additions to The Haven. Last updated: 24 Oct 2010</p>\n",
      "<h2><a accesskey=\"v\" href=\"fic_index.php\" tabindex=\"3\" title=\"Haven Fiction: Multi-fandom fanfiction. Access key: V\">Haven Fiction</a></h2>\n",
      "<p>Buffy, Doctor Who, Stargate and Atlantis fanfiction by Selenay.</p>\n",
      "<h2><a accesskey=\"r\" href=\"reviews/\" tabindex=\"4\" title=\"Fanfic Reviews. Access key: R\">Fanfiction reviews</a></h2>\n",
      "<p>Fanfiction reviews and recommendations from Selenay and friends</p>\n",
      "<h2><a accesskey=\"a\" href=\"random/index.htm\" tabindex=\"6\" title=\"Wallpapers, photos and icons. Access key: A\">Art Corner</a></h2>\n",
      "<p>Wallpapers, icons and convention photos</p>\n",
      "<h2><a accesskey=\"l\" href=\"links01.htm\" tabindex=\"7\" title=\"Links to other sites. Access key: L\">Links</a></h2>\n",
      "<p>Where do you want to go next? Includes the famous Fandom Newsletter Index.</p>\n",
      "<h2><a accesskey=\"d\" href=\"http://selenay.dreamwidth.org/\" tabindex=\"8\" title=\"Selenay's Dreamwidth. Access key: D\">Dreamwidth</a></h2>\n",
      "<p>Selenay's Dreamwidth, where she rambles about fanfiction, fandom and anything else that seems important</p>\n",
      "<h2><a accesskey=\"c\" href=\"feedback.htm\" tabindex=\"9\" title=\"Contact me. Access key: C\">Contact</a></h2>\n",
      "<p>Feedback, site problems, questions - it all goes to Selenay through this form.</p>\n",
      "<div id=\"disclaimer\">\n",
      "Disclaimer: Buffy the Vampire Slayer belongs to Fox, WB, Joss Whedon, Mutant Enemy et al.\n",
      "This is not an official site and there is no profit being made from it. Visit <a href=\"http://www.buffyupn.com\">the Official Site</a>.\n",
      "Stargate SG-1 and its characters are the property of Showtime/ Viacom, MGM/UA, Double Secret Productions, and Gekko Productions. Doctor Who and its\n",
      "spin-offs are the property of the mighty BBC.<br/>\n",
      "This website and all original content on it is the property of <a href=\"feedback.htm\"><b>Selenay</b></a>. Please do not store or reproduce anything on\n",
      "it for anything other than personal use without permission from the author.\n",
      "</div>\n",
      "</div>\n",
      "<script src=\"http://www.google-analytics.com/urchin.js\" type=\"text/javascript\">\n",
      "</script>\n",
      "<script type=\"text/javascript\">\n",
      "_uacct = \"UA-382148-2\";\n",
      "urchinTracker();\n",
      "</script>\n",
      "\n",
      "\n",
      "</body>\n"
     ]
    }
   ],
   "source": [
    "print(body)"
   ]
  },
  {
   "cell_type": "code",
   "execution_count": 18,
   "metadata": {
    "collapsed": true
   },
   "outputs": [],
   "source": [
    "# you can use the text property to get the text inside a tag. This is where I wish I'd used an h1 tag!\n",
    "# Using the h2 brings back the first h2 level tag I used. Silly me.\n",
    "title = ps.find(name=\"h2\").text"
   ]
  },
  {
   "cell_type": "code",
   "execution_count": 19,
   "metadata": {},
   "outputs": [
    {
     "name": "stdout",
     "output_type": "stream",
     "text": [
      "What's New\n"
     ]
    }
   ],
   "source": [
    "print(title)"
   ]
  },
  {
   "cell_type": "code",
   "execution_count": 20,
   "metadata": {},
   "outputs": [
    {
     "name": "stdout",
     "output_type": "stream",
     "text": [
      "What's New\n",
      "Haven Fiction\n",
      "Fanfiction reviews\n",
      "Art Corner\n",
      "Links\n",
      "Dreamwidth\n",
      "Contact\n"
     ]
    }
   ],
   "source": [
    "# to get all the tags of a type in one go, use find_all. This returns an iterable object!\n",
    "sections = ps.find_all(name=\"h2\")\n",
    "for section in sections:\n",
    "    print(section.text)"
   ]
  },
  {
   "cell_type": "code",
   "execution_count": 29,
   "metadata": {},
   "outputs": [
    {
     "name": "stdout",
     "output_type": "stream",
     "text": [
      "<h2 class=\"topindex\"><a accesskey=\"w\" href=\"whatnew.htm\" tabindex=\"2\" title=\"What's New. Access key: W\">What's New</a></h2>\n"
     ]
    }
   ],
   "source": [
    "# you can also use tag attributes to select things\n",
    "top_h2 = ps.find(name=\"h2\", attrs={'class':'topindex'})\n",
    "print(top_h2)"
   ]
  },
  {
   "cell_type": "markdown",
   "metadata": {},
   "source": [
    "This was a simple (and, on reflection, badly designed for webscraping) website. In the course, the instructor used combinations of parsing out the body, parsing the table element with a certain ID, and then looping through the td tags to scrape out the information he needed."
   ]
  }
 ],
 "metadata": {
  "kernelspec": {
   "display_name": "Python 3",
   "language": "python",
   "name": "python3"
  },
  "language_info": {
   "codemirror_mode": {
    "name": "ipython",
    "version": 3
   },
   "file_extension": ".py",
   "mimetype": "text/x-python",
   "name": "python",
   "nbconvert_exporter": "python",
   "pygments_lexer": "ipython3",
   "version": "3.6.2"
  }
 },
 "nbformat": 4,
 "nbformat_minor": 2
}
